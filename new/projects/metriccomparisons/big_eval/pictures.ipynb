{
 "cells": [
  {
   "cell_type": "code",
   "execution_count": 3,
   "metadata": {},
   "outputs": [],
   "source": [
    "import os\n",
    "from PIL import Image\n",
    "import cv2\n",
    "from matplotlib import pyplot as plt"
   ]
  },
  {
   "cell_type": "code",
   "execution_count": 11,
   "metadata": {},
   "outputs": [],
   "source": [
    "def createfillconcat(imgs, filename, geom):\n",
    "    textimg1 = cv2.imread('maxmin.png')\n",
    "    textimg2 = cv2.imread('maxminmean.png')\n",
    "    textimg3 = cv2.imread('maxminmax.png')\n",
    "\n",
    "    x_o_1, y_o_1 = 350, 340\n",
    "    x_o_2, y_o_2 = 350, 755\n",
    "    x_o_3, y_o_3 = 350, 1205\n",
    "\n",
    "    ims = []\n",
    "    for img in imgs:\n",
    "        im = cv2.imread(img)\n",
    "        im = im[100:550]\n",
    "        ims.append(im)\n",
    "\n",
    "    concat = cv2.vconcat(ims)\n",
    "\n",
    "    concat[y_o_1:y_o_1+textimg1.shape[0], x_o_1:x_o_1+textimg1.shape[1]] = textimg1\n",
    "    concat[y_o_2:y_o_2+textimg2.shape[0], x_o_2:x_o_2+textimg2.shape[1]] = textimg2\n",
    "    concat[y_o_3:y_o_3+textimg3.shape[0], x_o_3:x_o_3+textimg3.shape[1]] = textimg3\n",
    "    concat = cv2.putText(concat, 'a)', (10, 30), cv2.FONT_HERSHEY_TRIPLEX, 1, (0, 0, 0), 1, cv2.LINE_AA)\n",
    "    concat = cv2.putText(concat, 'b)', (10, 470), cv2.FONT_HERSHEY_TRIPLEX, 1, (0, 0, 0), 1, cv2.LINE_AA)\n",
    "    concat = cv2.putText(concat, 'c)', (10, 915), cv2.FONT_HERSHEY_TRIPLEX, 1, (0, 0, 0), 1, cv2.LINE_AA)\n",
    "    cv2.imwrite(filename, concat)\n",
    "\n",
    "\n",
    "def concatelemfigs(img1, img2, filename):\n",
    "    im1 = cv2.imread(img1)\n",
    "    im2 = cv2.imread(img2)\n",
    "    im2 = im2[:, 45:650]\n",
    "\n",
    "\n",
    "    concat = cv2.hconcat([im1, im2])\n",
    "    concat = cv2.putText(concat, 'a)', (10, 30), cv2.FONT_HERSHEY_TRIPLEX, 1, (0, 0, 0), 1, cv2.LINE_AA)\n",
    "    concat = cv2.putText(concat, 'b)', (710, 30), cv2.FONT_HERSHEY_TRIPLEX, 1, (0, 0, 0), 1, cv2.LINE_AA)\n",
    "    cv2.imwrite(filename, concat)"
   ]
  },
  {
   "cell_type": "code",
   "execution_count": 21,
   "metadata": {},
   "outputs": [
    {
     "name": "stdout",
     "output_type": "stream",
     "text": [
      "i_05_no_bl_85\n",
      "i_05_no_bl_85\n",
      "i_05_no_bl_85\n",
      "i_05_no_bl_85\n",
      "i_05_no_bl_85\n",
      "i_07_no_bl_85\n",
      "i_07_no_bl_85\n",
      "i_07_no_bl_85\n",
      "i_07_no_bl_85\n",
      "i_07_no_bl_85\n",
      "i_1_no_bl_85\n",
      "i_1_no_bl_85\n",
      "i_1_no_bl_85\n",
      "i_1_no_bl_85\n",
      "i_1_no_bl_85\n",
      "t_05_no_bl_80\n",
      "t_05_no_bl_80\n",
      "t_05_no_bl_80\n",
      "t_05_no_bl_80\n",
      "t_05_no_bl_80\n",
      "t_07_no_bl_80\n",
      "t_07_no_bl_80\n",
      "t_07_no_bl_80\n",
      "t_07_no_bl_80\n",
      "t_07_no_bl_80\n",
      "t_1_no_bl_80\n",
      "t_1_no_bl_80\n",
      "t_1_no_bl_80\n",
      "t_1_no_bl_80\n",
      "t_1_no_bl_80\n",
      "u_05_no_bl_90\n",
      "u_05_no_bl_90\n",
      "u_05_no_bl_90\n",
      "u_05_no_bl_90\n",
      "u_05_no_bl_90\n",
      "u_07_no_bl_90\n",
      "u_07_no_bl_90\n",
      "u_07_no_bl_90\n",
      "u_07_no_bl_90\n",
      "u_07_no_bl_90\n",
      "u_1_no_bl_90\n",
      "u_1_no_bl_90\n",
      "u_1_no_bl_90\n",
      "u_1_no_bl_90\n",
      "u_1_no_bl_90\n"
     ]
    }
   ],
   "source": [
    "basefolder = '../output'\n",
    "metrics = ['_r', '_n', '_rr']\n",
    "\n",
    "for result in os.listdir(basefolder):\n",
    "    for value in os.listdir(os.path.join(basefolder, result)):\n",
    "        if not value.endswith('.csv'):\n",
    "            print(result)\n",
    "            files = os.listdir(os.path.join(basefolder, result, value))\n",
    "            fillimgs = [os.path.join(basefolder, result, value, file) for file in files if file.startswith('fill')]\n",
    "            fillimgs = [fillimgs[1], fillimgs[0], fillimgs[2]]\n",
    "            createfillconcat(fillimgs, os.path.join(basefolder, result, value, result + '_' + value + '_fill_concat.png'))\n",
    "            figs = [os.path.join(basefolder, result, value, file) for file in files if not file.startswith('fill') and not file.startswith('elem') and not file.endswith('concat.png')]\n",
    "            elemfigs = [os.path.join(basefolder, result, value, file) for file in files if file.startswith('elem')]\n",
    "            figs = [figs[1], figs[0], figs[2]]\n",
    "            elemfigs = [elemfigs[1], elemfigs[0], elemfigs[2]]\n",
    "            for i in range(len(figs)):\n",
    "                concatelemfigs(figs[i], elemfigs[i], os.path.join(basefolder, result, value, result + '_' + value + metrics[i] + '_highdiffs_concat' + '.png'))\n",
    "        \n"
   ]
  },
  {
   "cell_type": "code",
   "execution_count": 19,
   "metadata": {},
   "outputs": [],
   "source": [
    "newlycreated = []\n",
    "for root, dir, files in os.walk('../output'):\n",
    "    for file in files:\n",
    "        if file.endswith('concat.png') or file.endswith('concat_r.png') or file.endswith('concat_n.png') or file.endswith('concat_rr.png'):\n",
    "            newlycreated.append(os.path.join(root, file))\n",
    "\n",
    "for file in newlycreated:\n",
    "    os.remove(file)"
   ]
  },
  {
   "cell_type": "code",
   "execution_count": null,
   "metadata": {},
   "outputs": [],
   "source": []
  }
 ],
 "metadata": {
  "kernelspec": {
   "display_name": "base",
   "language": "python",
   "name": "python3"
  },
  "language_info": {
   "codemirror_mode": {
    "name": "ipython",
    "version": 3
   },
   "file_extension": ".py",
   "mimetype": "text/x-python",
   "name": "python",
   "nbconvert_exporter": "python",
   "pygments_lexer": "ipython3",
   "version": "3.11.8"
  }
 },
 "nbformat": 4,
 "nbformat_minor": 2
}
